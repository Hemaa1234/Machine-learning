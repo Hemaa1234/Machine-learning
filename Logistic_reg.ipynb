{
  "nbformat": 4,
  "nbformat_minor": 0,
  "metadata": {
    "colab": {
      "provenance": [],
      "authorship_tag": "ABX9TyOu7D6cb5Q0JWBXXjfwDU+w",
      "include_colab_link": true
    },
    "kernelspec": {
      "name": "python3",
      "display_name": "Python 3"
    },
    "language_info": {
      "name": "python"
    }
  },
  "cells": [
    {
      "cell_type": "markdown",
      "metadata": {
        "id": "view-in-github",
        "colab_type": "text"
      },
      "source": [
        "<a href=\"https://colab.research.google.com/github/Hemaa1234/linear-regression/blob/main/Logistic_reg.ipynb\" target=\"_parent\"><img src=\"https://colab.research.google.com/assets/colab-badge.svg\" alt=\"Open In Colab\"/></a>"
      ]
    },
    {
      "cell_type": "code",
      "execution_count": 1,
      "metadata": {
        "id": "90AAPOZT3VkK"
      },
      "outputs": [],
      "source": [
        "import numpy as np\n"
      ]
    },
    {
      "cell_type": "code",
      "source": [
        "class logistic_Regression():\n",
        "  def __init__(self,learning_rate,no_of_iterations):\n",
        "    self.learning_rate=learning_rate\n",
        "    self.no_of_iterations=no_of_iterations\n",
        "\n",
        "  def fit(self,x,y):\n",
        "    self.m,self.n=x.shape\n",
        "    self.w=np.zeros(self.n)\n",
        "    self.b=0\n",
        "    self.x=x\n",
        "    self.y=y\n",
        "\n",
        "    for i in range(no_of_iterations):\n",
        "      self.update_weights()\n",
        "\n",
        "  def update_weights(self):\n",
        "     y_hat=1/(1+ np.exp -(x.dot(self.w) + self.b))\n",
        "     dw=(1/self.m)*np.dot (self.x.T,(y_hat-self.y))\n",
        "     db=(1/self.m)*np.sum(y_hat-self.y)\n",
        "     self.w=self.w-self.learning_rate*dw\n",
        "     self.b=self.b-self.learning_rate*db\n",
        "\n",
        "  def predict(self):\n",
        "    y_pred=1/(1+ np.exp -(x.dot(self.w) + self.b))\n",
        "    y_pred=np.where(y_pred>0.5, 1,0)\n",
        "    return y_pred\n"
      ],
      "metadata": {
        "id": "M2ShT9tY3kBc"
      },
      "execution_count": 3,
      "outputs": []
    }
  ]
}