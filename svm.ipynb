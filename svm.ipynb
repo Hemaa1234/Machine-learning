{
  "nbformat": 4,
  "nbformat_minor": 0,
  "metadata": {
    "colab": {
      "provenance": [],
      "authorship_tag": "ABX9TyM0clLqzJb7vBFh2I/Q94Bw",
      "include_colab_link": true
    },
    "kernelspec": {
      "name": "python3",
      "display_name": "Python 3"
    },
    "language_info": {
      "name": "python"
    }
  },
  "cells": [
    {
      "cell_type": "markdown",
      "metadata": {
        "id": "view-in-github",
        "colab_type": "text"
      },
      "source": [
        "<a href=\"https://colab.research.google.com/github/Hemaa1234/Machine-learning/blob/main/svm.ipynb\" target=\"_parent\"><img src=\"https://colab.research.google.com/assets/colab-badge.svg\" alt=\"Open In Colab\"/></a>"
      ]
    },
    {
      "cell_type": "code",
      "execution_count": 1,
      "metadata": {
        "id": "FPYBjqEZ8Fwc"
      },
      "outputs": [],
      "source": [
        "import numpy as np"
      ]
    },
    {
      "cell_type": "code",
      "source": [
        "class svm_classifier():\n",
        "  def __init__(self,learning_rate,no_of_iterations,lambda_parameter):\n",
        "\n",
        "    self.learning_rate=learning_rate\n",
        "    self.no_of_iterations=no_of_iterations\n",
        "    self.lambda_parameter=lambda_parameter\n",
        "\n",
        "  def fit(self,x,y):\n",
        "    self.m,self.n=x.shape\n",
        "    self.w=np.zeros(self.n)\n",
        "    self.b=0\n",
        "    self.x=x\n",
        "    self.y=y\n",
        "\n",
        "    for i in range(self.no_of_iterations):\n",
        "      self.update_weights()\n",
        "\n",
        "\n",
        "  def update_weights(self):\n",
        "    y_label=np.where(self.y<=0,-1,1)\n",
        "    for index,x_i in enumarate(self.x):\n",
        "      condition=y_label[index](np.dot(x_i,self.w)-(self.b)) >=1\n",
        "    if condition==True:\n",
        "      dw=2*self.lambda_parameter*self.w\n",
        "      db=0\n",
        "    else:\n",
        "      dw=2*self.lambda_parameter*self.w-np.dot(x_i,y_label[index])\n",
        "      db=y_label[index]\n",
        "    self.w=self.w-learning_rate*dw\n",
        "    self.b=self.b-learning_rate*db\n",
        "\n",
        "  def predict(self,x):\n",
        "    output=np.dot(x,self.w)-self.b\n",
        "    y_pred=np.sign(output)\n",
        "    y_hat=np.where(y_pred<=-1,0,1)\n",
        "    return y_hat\n",
        "\n"
      ],
      "metadata": {
        "id": "KUKHUd748Lmq"
      },
      "execution_count": 6,
      "outputs": []
    }
  ]
}